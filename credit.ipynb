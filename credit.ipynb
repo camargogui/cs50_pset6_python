{
 "cells": [
  {
   "cell_type": "code",
   "execution_count": null,
   "metadata": {},
   "outputs": [],
   "source": [
    "def main():\n",
    "    while True:\n",
    "        try:\n",
    "            credit_card = int(input('Type your credit card number.'))\n",
    "        except ValueError:\n",
    "            print('Type a valid entry')\n",
    "            continue\n",
    "        break\n",
    "        \n",
    "    i, a, b = verification(credit_card)\n",
    "\n",
    "    if i % 10 == 0:\n",
    "        if a == 3 and (b in [4,7]):\n",
    "            print('American Express')\n",
    "        elif a == 5 and (b in [1,2,3,4,5]):\n",
    "            print('MasterCard')\n",
    "        elif a == 4:\n",
    "            print('Visa')\n",
    "        else:\n",
    "            print('Invalid flag!')\n",
    "    else:\n",
    "        print('Invalid card!')\n",
    "\n",
    "def verification(n):\n",
    "    card_numbers= []\n",
    "    aux = 0    \n",
    "    while n > 1:\n",
    "        card_numbers.append(int(n % 10))\n",
    "        n = n / 10\n",
    "        if len(card_numbers) % 2 == 0:\n",
    "            if card_numbers[-1]*2 > 9:\n",
    "                aux = aux + card_numbers[-1]*2 % 10 + 1\n",
    "            else:\n",
    "                aux = aux + card_numbers[-1]*2\n",
    "        else:\n",
    "                aux = aux + card_numbers[-1]\n",
    "    return aux, card_numbers[-1], card_numbers[-2]\n",
    "\n",
    "main()"
   ]
  }
 ],
 "metadata": {
  "kernelspec": {
   "display_name": "Python 3",
   "language": "python",
   "name": "python3"
  },
  "language_info": {
   "codemirror_mode": {
    "name": "ipython",
    "version": 3
   },
   "file_extension": ".py",
   "mimetype": "text/x-python",
   "name": "python",
   "nbconvert_exporter": "python",
   "pygments_lexer": "ipython3",
   "version": "3.7.6"
  }
 },
 "nbformat": 4,
 "nbformat_minor": 4
}
